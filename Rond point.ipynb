{
 "cells": [
  {
   "cell_type": "code",
   "execution_count": 1,
   "metadata": {},
   "outputs": [
    {
     "name": "stdout",
     "output_type": "stream",
     "text": [
      "pygame 2.1.2 (SDL 2.0.18, Python 3.9.13)\n",
      "Hello from the pygame community. https://www.pygame.org/contribute.html\n"
     ]
    }
   ],
   "source": [
    "import pygame\n",
    "import random\n",
    "import math\n",
    "import time"
   ]
  },
  {
   "cell_type": "code",
   "execution_count": 6,
   "metadata": {},
   "outputs": [],
   "source": [
    "# Initialisation de pygame\n",
    "pygame.init()\n",
    "\n",
    "# Définition de la taille de la fenêtre\n",
    "screen_size = (800, 600)\n",
    "screen = pygame.display.set_mode(screen_size)\n",
    "\n",
    "# Définition de la couleur de fond\n",
    "bg_color = (255, 255, 255)\n",
    "\n",
    "# Classe pour les voitures\n",
    "class Car:\n",
    "    def __init__(self, x, y, angle):\n",
    "        self.x = x\n",
    "        self.y = y\n",
    "        self.angle = angle\n",
    "        self.speed = 0.2\n",
    "        self.color = (random.randint(0,255), random.randint(0,255), random.randint(0,255))\n",
    "        \n",
    "    def update(self):\n",
    "        self.x += self.speed * math.cos(self.angle)\n",
    "        self.y += self.speed * math.sin(self.angle)\n",
    "\n",
    "# Création d'une liste de voitures\n",
    "cars = []\n",
    "for i in range(10):\n",
    "    cars.append(Car(0, 300, 0))\n",
    "\n",
    "# Boucle principale\n",
    "running = True\n",
    "while running:\n",
    "    for event in pygame.event.get():\n",
    "        if event.type == pygame.QUIT:\n",
    "            running = False\n",
    "\n",
    "    # Mise à jour de l'affichage\n",
    "    screen.fill(bg_color)\n",
    "    pygame.draw.circle(screen, (0, 0, 0), (400, 300), 100, 5)\n",
    "    for car in cars:\n",
    "        car.update()\n",
    "        pygame.draw.circle(screen, car.color, (int(car.x), int(car.y)), 10)\n",
    "    pygame.display.flip()\n",
    "\n",
    "# Arrêt de pygame\n",
    "pygame.quit()"
   ]
  }
 ],
 "metadata": {
  "kernelspec": {
   "display_name": "base",
   "language": "python",
   "name": "python3"
  },
  "language_info": {
   "codemirror_mode": {
    "name": "ipython",
    "version": 3
   },
   "file_extension": ".py",
   "mimetype": "text/x-python",
   "name": "python",
   "nbconvert_exporter": "python",
   "pygments_lexer": "ipython3",
   "version": "3.9.13 (main, Aug 25 2022, 23:51:50) [MSC v.1916 64 bit (AMD64)]"
  },
  "orig_nbformat": 4,
  "vscode": {
   "interpreter": {
    "hash": "ad2bdc8ecc057115af97d19610ffacc2b4e99fae6737bb82f5d7fb13d2f2c186"
   }
  }
 },
 "nbformat": 4,
 "nbformat_minor": 2
}
