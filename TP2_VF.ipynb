{
 "cells": [
  {
   "cell_type": "markdown",
   "metadata": {},
   "source": [
    "# TD n°2 : données de trafic"
   ]
  },
  {
   "cell_type": "markdown",
   "metadata": {},
   "source": [
    "code : Alexandre Jayol & Mathis Boukhellouf\n",
    "\n",
    "adapté d'un énoncé de Nicolas Chiabaut inspiré de Christine Buisson"
   ]
  },
  {
   "cell_type": "code",
   "execution_count": null,
   "metadata": {},
   "outputs": [],
   "source": [
    "import pandas as pd\n",
    "import datetime as dt\n",
    "import matplotlib.pyplot as plt"
   ]
  },
  {
   "cell_type": "code",
   "execution_count": null,
   "metadata": {},
   "outputs": [],
   "source": [
    "Chemin = \"Data/\""
   ]
  },
  {
   "cell_type": "code",
   "execution_count": null,
   "metadata": {},
   "outputs": [],
   "source": [
    "## Paramètres des graphiques\n",
    "plt.rcParams['figure.dpi'] = 120"
   ]
  },
  {
   "cell_type": "markdown",
   "metadata": {},
   "source": [
    "On importe les csv dans des DataFrames, une Dataframe pour chaque boucle et chaque jour."
   ]
  },
  {
   "cell_type": "code",
   "execution_count": null,
   "metadata": {},
   "outputs": [],
   "source": [
    "Boucle_1_jeudi = pd.read_csv(Chemin + 'Boucle_1_jeudi.csv', header = 0, sep = \";\")\n",
    "Boucle_1_jeudi['Heure'] = pd.to_datetime(Boucle_1_jeudi['Heure'], format = \"%H:%M\")\n",
    "Boucle_2_jeudi = pd.read_csv(Chemin + 'Boucle_2_jeudi.csv', header = 0, sep = \";\")\n",
    "Boucle_2_jeudi['Heure'] = pd.to_datetime(Boucle_2_jeudi['Heure'], format = \"%H:%M\")\n",
    "Boucle_3_jeudi = pd.read_csv(Chemin + 'Boucle_3_jeudi.csv', header = 0, sep = \";\")\n",
    "Boucle_3_jeudi['Heure'] = pd.to_datetime(Boucle_3_jeudi['Heure'], format = \"%H:%M\")\n",
    "\n",
    "Boucle_1_vendredi = pd.read_csv(Chemin + 'Boucle_1_vendredi.csv', header = 0, sep = \";\")\n",
    "Boucle_1_vendredi['Heure'] = pd.to_datetime(Boucle_1_vendredi['Heure'], format = \"%H:%M\")\n",
    "Boucle_2_vendredi = pd.read_csv(Chemin + 'Boucle_2_vendredi.csv', header = 0, sep = \";\")\n",
    "Boucle_2_vendredi['Heure'] = pd.to_datetime(Boucle_2_vendredi['Heure'], format = \"%H:%M\")\n",
    "Boucle_3_vendredi = pd.read_csv(Chemin + 'Boucle_3_vendredi.csv', header = 0, sep = \";\")\n",
    "Boucle_3_vendredi['Heure'] = pd.to_datetime(Boucle_3_vendredi['Heure'], format = \"%H:%M\")\n",
    "\n",
    "Boucle_1_jeudi = Boucle_1_jeudi.set_index('Heure')\n",
    "Boucle_2_jeudi = Boucle_2_jeudi.set_index('Heure')\n",
    "Boucle_3_jeudi = Boucle_3_jeudi.set_index('Heure')\n",
    "\n",
    "Boucle_1_vendredi = Boucle_1_vendredi.set_index('Heure')\n",
    "Boucle_2_vendredi = Boucle_2_vendredi.set_index('Heure')\n",
    "Boucle_3_vendredi = Boucle_3_vendredi.set_index('Heure')\n",
    "\n",
    "\n",
    "Boucle_1_jeudi.index = Boucle_1_jeudi.index + dt.timedelta(40939)\n",
    "Boucle_2_jeudi.index = Boucle_2_jeudi.index + dt.timedelta(40939)\n",
    "Boucle_3_jeudi.index = Boucle_3_jeudi.index + dt.timedelta(40939)\n",
    "\n",
    "Boucle_1_vendredi.index = Boucle_1_vendredi.index + dt.timedelta(40940)\n",
    "Boucle_2_vendredi.index = Boucle_2_vendredi.index + dt.timedelta(40940)\n",
    "Boucle_3_vendredi.index = Boucle_3_vendredi.index + dt.timedelta(40940)\n"
   ]
  },
  {
   "cell_type": "markdown",
   "metadata": {},
   "source": [
    "## Impact de la période d'agrégation"
   ]
  },
  {
   "cell_type": "markdown",
   "metadata": {},
   "source": [
    "**Q3** : Tracez les chroniques sur le même graphique pour les différentes périodes d’agrégation de la boucle 1 et commentez."
   ]
  },
  {
   "cell_type": "markdown",
   "metadata": {},
   "source": [
    "La cellule ci-dessous va vous permettre de tracer les chroniques du débit. Pour ce faire, vous allez choisir plusieurs valeurs de périodes d'agrégation temporelle, c'est-à-dire le temps sur lequel on moyenne les données agrégées durant cette période. \n",
    "Les données sont récoltées toutes les minutes, la période minimale d'agrégation est donc d'une minute.\n",
    "\n",
    "Choisissez des valeurs de période d'agrégation en minute(s) et affectez-les à la liste ``period_agreg``"
   ]
  },
  {
   "cell_type": "code",
   "execution_count": null,
   "metadata": {},
   "outputs": [],
   "source": [
    "period_agreg = [?,?,?,?,?]\n",
    "\n",
    "for i in period_agreg:\n",
    "    Boucle_1_jeudi.Debit.rolling(i).mean().plot(label = f'{i} min')\n",
    "    plt.legend(loc='upper right')\n",
    "    plt.xlabel('Heure')\n",
    "    plt.ylabel('Débit (véh/h)')"
   ]
  },
  {
   "cell_type": "markdown",
   "metadata": {},
   "source": [
    "## Chroniques des variables caractéristiques"
   ]
  },
  {
   "cell_type": "markdown",
   "metadata": {},
   "source": [
    "**Q4** : Tracez les chroniques du débit, de la vitesse et du taux d’occupation de chacune des boucles pour le vendredi. Identifiez différentes phases et commentez l’évolution des variables. Mesurez la durée de la congestion et la vitesse moyenne."
   ]
  },
  {
   "cell_type": "code",
   "execution_count": null,
   "metadata": {},
   "outputs": [],
   "source": [
    "# Plot Débit (veh/h)\n",
    "Boucle_1_vendredi['Debit'].plot(label = 'boucle 1')\n",
    "Boucle_2_vendredi['Debit'].plot(label = 'boucle 2')\n",
    "Boucle_3_vendredi['Debit'].plot(label = 'boucle 3')\n",
    "\n",
    "plt.xlabel('Heure')\n",
    "plt.ylabel('Débit (véh/h)')\n",
    "plt.legend()\n",
    "plt.show()\n",
    "\n",
    "\n",
    "\n",
    "# Plot Vitesse (km/h)\n",
    "Boucle_1_vendredi['Vitesse'].plot(label = 'boucle 1')\n",
    "Boucle_2_vendredi['Vitesse'].plot(label = 'boucle 2')\n",
    "Boucle_3_vendredi['Vitesse'].plot(label = 'boucle 3')\n",
    "\n",
    "plt.xlabel('Heure')\n",
    "plt.ylabel('Vitesse (km/h)')\n",
    "plt.legend()\n",
    "plt.show()\n",
    "\n",
    "\n",
    "\n",
    "\n",
    "\n",
    "# Plot TO (%)\n",
    "Boucle_1_vendredi['TauxOccupation'].plot(label = 'boucle 1')\n",
    "Boucle_2_vendredi['TauxOccupation'].plot(label = 'boucle 2')\n",
    "Boucle_3_vendredi['TauxOccupation'].plot(label = 'boucle 3')\n",
    "\n",
    "plt.xlabel('Heure')\n",
    "plt.ylabel(\"Taux d'occupation (%)\")\n",
    "plt.legend()\n",
    "plt.show()\n"
   ]
  },
  {
   "cell_type": "markdown",
   "metadata": {},
   "source": [
    "**Q5** : Reprenez **Q4** pour le jeudi. Comparez avec les chroniques du vendredi."
   ]
  },
  {
   "cell_type": "code",
   "execution_count": null,
   "metadata": {},
   "outputs": [],
   "source": [
    "# Plot Débit (veh/h)\n",
    "Boucle_1_jeudi['Debit'].plot(label = 'boucle 1')\n",
    "Boucle_2_jeudi['Debit'].plot(label = 'boucle 2')\n",
    "Boucle_3_jeudi['Debit'].plot(label = 'boucle 3')\n",
    "\n",
    "plt.xlabel('Heure')\n",
    "plt.ylabel('Débit (véh/h)')\n",
    "plt.legend()\n",
    "plt.show()\n",
    "\n",
    "\n",
    "\n",
    "# Plot Vitesse (km/h)\n",
    "Boucle_1_jeudi['Vitesse'].plot(label = 'boucle 1')\n",
    "Boucle_2_jeudi['Vitesse'].plot(label = 'boucle 2')\n",
    "Boucle_3_jeudi['Vitesse'].plot(label = 'boucle 3')\n",
    "\n",
    "plt.xlabel('Heure')\n",
    "plt.ylabel('Vitesse (km/h)')\n",
    "plt.legend()\n",
    "plt.show()\n",
    "\n",
    "\n",
    "\n",
    "\n",
    "\n",
    "# Plot TO (%)\n",
    "Boucle_1_jeudi['TauxOccupation'].plot(label = 'boucle 1')\n",
    "Boucle_2_jeudi['TauxOccupation'].plot(label = 'boucle 2')\n",
    "Boucle_3_jeudi['TauxOccupation'].plot(label = 'boucle 3')\n",
    "\n",
    "plt.xlabel('Heure')\n",
    "plt.ylabel(\"Taux d'occupation (%)\")\n",
    "plt.legend()\n",
    "plt.show()\n"
   ]
  },
  {
   "cell_type": "markdown",
   "metadata": {},
   "source": [
    "## Utilisation des courbes de véhicules cumulés"
   ]
  },
  {
   "cell_type": "markdown",
   "metadata": {},
   "source": [
    "**Q6** : Construisez et tracez les CVC pour chacune des boucles du **vendredi**."
   ]
  },
  {
   "cell_type": "markdown",
   "metadata": {},
   "source": [
    "Les CVC s'obtiennent par le cumul des comptages des véhicules observés par pas de temps.\n",
    "Pour y arriver, pourquoi utilise-t-on le cumul des débits et le divise-t-on ensuite par 60 ?"
   ]
  },
  {
   "cell_type": "code",
   "execution_count": null,
   "metadata": {},
   "outputs": [],
   "source": [
    "Boucle_1_vendredi['VehiculesCumules'] = Boucle_1_vendredi['Debit'].cumsum()/60\n",
    "Boucle_2_vendredi['VehiculesCumules'] = Boucle_2_vendredi['Debit'].cumsum()/60\n",
    "Boucle_3_vendredi['VehiculesCumules'] = Boucle_3_vendredi['Debit'].cumsum()/60"
   ]
  },
  {
   "cell_type": "markdown",
   "metadata": {},
   "source": [
    "Il reste à tracer les CVC :"
   ]
  },
  {
   "cell_type": "code",
   "execution_count": null,
   "metadata": {},
   "outputs": [],
   "source": [
    "Boucle_1_vendredi['VehiculesCumules'].plot(label = 'boucle 1')\n",
    "Boucle_2_vendredi['VehiculesCumules'].plot(label = 'boucle 2')\n",
    "Boucle_3_vendredi['VehiculesCumules'].plot(label = 'boucle 3')\n",
    "\n",
    "plt.xlabel('Heure')\n",
    "plt.ylabel(\"Nombre de véhicules\")\n",
    "plt.legend()\n",
    "plt.show()"
   ]
  },
  {
   "cell_type": "markdown",
   "metadata": {},
   "source": [
    "**Q7** : Tracez les CVC obliques et identifiez les différentes phases de fonctionnement du **vendredi**:\n",
    "1. Construire la CVC oblique de référence en faisant varier le débit moyen (vous pouvez vous aider des chroniques du débit tracées en Q4 et Q5 pour le trouver),\n",
    "2. Soustraire à chaque pas de temps cette référence aux CVC initiales.\n",
    "\n",
    "Les chroniques des vitesses aux différentes boucles peuvent vous aider à comprendre ce qu'il s’est passé. Donnez les valeurs moyennes de débits pour les différentes phases identifiées."
   ]
  },
  {
   "cell_type": "markdown",
   "metadata": {},
   "source": [
    "Si $N$ est le nombre de véhicules cumulés, dont la courbe représentative est donnée par une CVC, les CVC obliques (CVC-o) sont la représentation graphique de $t \\mapsto N(t) - \\lambda_0 t$, où $\\lambda_0$ est une valeur de débit à choisir. En général, on choisit $\\lambda_0$ de sorte qu'il soit proche de la valeur du débit moyen observé. On retranche alors aux CVC la tendance globale du trafic.\n",
    "\n",
    "**Attention :** ``Debit_moy`` est en véh/min et non en véh/h."
   ]
  },
  {
   "cell_type": "code",
   "execution_count": null,
   "metadata": {},
   "outputs": [],
   "source": [
    "# Définition du débit moyen (veh/min)\n",
    "#####################################################\n",
    "Debit_moy = int(???/60)\n",
    "#####################################################\n",
    "\n",
    "\n",
    "# En conséquence, on construit un dataframe contenant le nombre de véhicules cumulés liés à cette valeur de débit moyen\n",
    "Tendance = pd.Series(range(Debit_moy, Debit_moy*(len(Boucle_3_vendredi)+1), Debit_moy)).to_frame()\n",
    "Tendance = Tendance.rename(columns={Tendance.columns[0]: 'VehiculesCumules'})\n",
    "Tendance['VehiculesCumules'].index = Boucle_3_vendredi.index"
   ]
  },
  {
   "cell_type": "code",
   "execution_count": null,
   "metadata": {},
   "outputs": [],
   "source": [
    "Boucle_1_vendredi['Obliques'] = Boucle_1_vendredi['VehiculesCumules'] - Tendance['VehiculesCumules']\n",
    "Boucle_2_vendredi['Obliques'] = Boucle_2_vendredi['VehiculesCumules'] - Tendance['VehiculesCumules']\n",
    "Boucle_3_vendredi['Obliques'] = Boucle_3_vendredi['VehiculesCumules'] - Tendance['VehiculesCumules']"
   ]
  },
  {
   "cell_type": "code",
   "execution_count": null,
   "metadata": {},
   "outputs": [],
   "source": [
    "Boucle_1_vendredi['Obliques'].plot(label = 'boucle 1')\n",
    "Boucle_2_vendredi['Obliques'].plot(label = 'boucle 2')\n",
    "Boucle_3_vendredi['Obliques'].plot(label = 'boucle 3')\n",
    "\n",
    "plt.xlabel('Heure')\n",
    "plt.ylabel('Nombre de véhicules')\n",
    "plt.legend()"
   ]
  },
  {
   "cell_type": "markdown",
   "metadata": {},
   "source": [
    "**Q8** : A l’aide des chroniques de la vitesse du vendredi, identifiez les instants de passage de la remontée de la congestion aux différentes boucles. A l’aide de ces chroniques et de la **figure 1**, calculez la vitesse de remontée de la congestion."
   ]
  },
  {
   "cell_type": "code",
   "execution_count": null,
   "metadata": {},
   "outputs": [],
   "source": [
    "# Plot Vitesse (km/h)\n",
    "Boucle_1_vendredi['Vitesse'].plot(label = 'boucle 1')\n",
    "Boucle_2_vendredi['Vitesse'].plot(label = 'boucle 2')\n",
    "Boucle_3_vendredi['Vitesse'].plot(label = 'boucle 3')\n",
    "\n",
    "plt.xlabel('Heure')\n",
    "plt.ylabel('Vitesse (km/h)')\n",
    "plt.legend()\n",
    "plt.show()"
   ]
  },
  {
   "cell_type": "code",
   "execution_count": null,
   "metadata": {
    "scrolled": false
   },
   "outputs": [],
   "source": [
    "print(Boucle_1_vendredi.loc['2012-02-03 08:45:00':'2012-02-03 09:15:00', 'Vitesse'])"
   ]
  },
  {
   "cell_type": "code",
   "execution_count": null,
   "metadata": {},
   "outputs": [],
   "source": [
    "print(Boucle_2_vendredi.loc['2012-02-03 08:45:00':'2012-02-03 09:15:00', 'Vitesse'])"
   ]
  },
  {
   "cell_type": "code",
   "execution_count": null,
   "metadata": {},
   "outputs": [],
   "source": [
    "print(Boucle_3_vendredi.loc['2012-02-03 08:45:00':'2012-02-03 09:15:00', 'Vitesse'])"
   ]
  },
  {
   "cell_type": "markdown",
   "metadata": {},
   "source": [
    "## Diagramme fondamental et relation débit-vitesse"
   ]
  },
  {
   "cell_type": "markdown",
   "metadata": {},
   "source": [
    "**Q9** : Tracez les diagrammes fondamentaux $q = Q(k)$ et $v = V(q)$ pour les boucles 1 et 2. Identifiez les zones fluides et congestionnées."
   ]
  },
  {
   "cell_type": "code",
   "execution_count": null,
   "metadata": {},
   "outputs": [],
   "source": [
    "# q = Q(k)\n",
    "\n",
    "plt.scatter(Boucle_1_jeudi[\"TauxOccupation\"], Boucle_1_jeudi[\"Debit\"], label='Boucle 1')\n",
    "plt.scatter(Boucle_2_jeudi[\"TauxOccupation\"], Boucle_2_jeudi[\"Debit\"], label='Boucle 2')\n",
    "plt.xlabel(\"Taux d'occupation (%)\")\n",
    "plt.ylabel(\"Debit (veh/h)\")\n",
    "plt.legend(loc='lower right')\n",
    "plt.show()\n",
    "\n",
    "\n",
    "\n",
    "# v = V(q)\n",
    "plt.scatter(Boucle_1_jeudi[\"Debit\"], Boucle_1_jeudi[\"Vitesse\"], label='Boucle 1')\n",
    "plt.scatter(Boucle_2_jeudi[\"Debit\"], Boucle_2_jeudi[\"Vitesse\"], label='Boucle 2')\n",
    "plt.xlabel(\"Débit (véh/h)\")\n",
    "plt.ylabel(\"Vitesse (km/h)\")\n",
    "plt.legend(loc='lower left')"
   ]
  },
  {
   "cell_type": "markdown",
   "metadata": {},
   "source": [
    "A-t-on vraiment tracé les diagrammes fondamentaux? Pourquoi?"
   ]
  }
 ],
 "metadata": {
  "kernelspec": {
   "display_name": "Python 3",
   "language": "python",
   "name": "python3"
  },
  "language_info": {
   "codemirror_mode": {
    "name": "ipython",
    "version": 3
   },
   "file_extension": ".py",
   "mimetype": "text/x-python",
   "name": "python",
   "nbconvert_exporter": "python",
   "pygments_lexer": "ipython3",
   "version": "3.7.6"
  }
 },
 "nbformat": 4,
 "nbformat_minor": 4
}
